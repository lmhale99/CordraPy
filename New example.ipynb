{
 "cells": [
  {
   "cell_type": "code",
   "execution_count": 5,
   "metadata": {},
   "outputs": [],
   "source": [
    "import cordra\n",
    "from lucenequerybuilder import Q\n",
    "\n",
    "from pathlib import Path\n",
    "import json"
   ]
  },
  {
   "cell_type": "markdown",
   "metadata": {},
   "source": [
    "# Initialize interactions\n",
    "\n",
    "The CordraClient class handles interactions with a Cordra database.  The class stores the host URL and authentification settings. If username and/or password are not given, a prompt will ask for them.\n",
    "\n",
    "Thoughts: integrate token usage in during initialization with a \"usetokens\" bool option? Everything else is then handled internally."
   ]
  },
  {
   "cell_type": "code",
   "execution_count": 2,
   "metadata": {},
   "outputs": [
    {
     "name": "stdout",
     "output_type": "stream",
     "text": [
      "Enter password for admin @ https://localhost:8443:········\n"
     ]
    }
   ],
   "source": [
    "db = cordra.CordraClient(\"https://localhost:8443\", username='admin', verify=False)"
   ]
  },
  {
   "cell_type": "markdown",
   "metadata": {},
   "source": [
    "## Data as a Python object\n",
    "\n",
    "Here, a Python object is defined to generate the Cordra object content.  This is a very simple example that could be refined and improved on.\n",
    "\n",
    "Cordra-centric improvements:\n",
    "\n",
    "- Need a Base class to build on.\n",
    "- Since each class represents a specific schema, the schema name should be an attribute.\n",
    "- Integrate in payload handling? Maybe an \"add_payload()\" method on the Base class?\n",
    "- Use pydantic rather than dict for building the json.\n",
    "\n",
    "Broader design ideas:\n",
    "\n",
    "- Python object should primarily represent the Python interpretation of the data. Here, the representation is extremely simple but things can quickly get complicated.\n",
    "- Then, methods should exist to generate records based on the object content.\n",
    "- From this the \"json()\" method might be renamed \"cordra()\", or have the cordra() method use json(). "
   ]
  },
  {
   "cell_type": "code",
   "execution_count": 2,
   "metadata": {},
   "outputs": [],
   "source": [
    "class Document():\n",
    "    def __init__(self, name=None, description=None):\n",
    "        self.name = name\n",
    "        self.description = description\n",
    "    \n",
    "    def json(self):\n",
    "        out = {}\n",
    "        if self.name:\n",
    "            out['name'] = self.name\n",
    "        if self.description:\n",
    "            out['description'] = self.description\n",
    "            \n",
    "        return json.dumps(out)"
   ]
  },
  {
   "cell_type": "code",
   "execution_count": 3,
   "metadata": {},
   "outputs": [],
   "source": [
    "# Create Document object\n",
    "doc = Document('Test', 'A test for uploading a document and payload')"
   ]
  },
  {
   "cell_type": "code",
   "execution_count": 6,
   "metadata": {},
   "outputs": [
    {
     "data": {
      "text/plain": [
       "'{\"name\": \"Test\", \"description\": \"A test for uploading a document and payload\"}'"
      ]
     },
     "execution_count": 6,
     "metadata": {},
     "output_type": "execute_result"
    }
   ],
   "source": [
    "# Show that Cordra json is automatically generated\n",
    "doc.json()"
   ]
  },
  {
   "cell_type": "markdown",
   "metadata": {},
   "source": [
    "## Payload object as well?\n",
    "\n",
    "Payloads is a utility class that helps support the upload of data files to the Cordra repository by generating the appropriate file content. \n",
    "\n",
    "Still simple, but a new Payloads takes:\n",
    "\n",
    "- An equal number of names and filenames\n",
    "- Allows for new payloads to be added after init\n",
    "- Has a \"json()\" method that generates the params['files'] content for the request.\n"
   ]
  },
  {
   "cell_type": "code",
   "execution_count": 5,
   "metadata": {},
   "outputs": [],
   "source": [
    "payloads = cordra.Payloads('p1', \"example-data.csv\")"
   ]
  },
  {
   "cell_type": "markdown",
   "metadata": {},
   "source": [
    "## Create\n",
    "\n",
    "The CordraClient.create() method creates a new record in the Cordra instance from \n",
    "\n",
    "- A Python dict or a object with a json() method.  This allows for either raw content or organized content.\n",
    "- The schema style. Could be incorporated into the object as mentioned above.\n",
    "- payloads, given as an object here.  Could be incorporated into the object as mentioned above.\n",
    "\n",
    "NOTE: I'm missing the acl info so records are not \"public\". Option is there, but not tested... "
   ]
  },
  {
   "cell_type": "code",
   "execution_count": 6,
   "metadata": {},
   "outputs": [
    {
     "data": {
      "text/plain": [
       "{'id': 'test/7d9ce113ebfe6665b2f5',\n",
       " 'name': 'Test',\n",
       " 'description': 'A test for uploading a document and payload'}"
      ]
     },
     "execution_count": 6,
     "metadata": {},
     "output_type": "execute_result"
    }
   ],
   "source": [
    "db.create(doc, 'Document', payloads=payloads)"
   ]
  },
  {
   "cell_type": "markdown",
   "metadata": {},
   "source": [
    "## Find\n",
    "\n",
    "I don't know enough about Cordra yet, but should/can some sort of lucenequerybuilder support be built in to the class?"
   ]
  },
  {
   "cell_type": "code",
   "execution_count": 7,
   "metadata": {},
   "outputs": [
    {
     "data": {
      "text/plain": [
       "{'pageNum': 0,\n",
       " 'pageSize': -1,\n",
       " 'size': 2,\n",
       " 'results': [{'id': 'test/f1f0188d7e74ce2e9b39',\n",
       "   'name': 'example 1',\n",
       "   'description': 'an example of metadata for CSV payload'},\n",
       "  {'id': 'test/329512e07aba172ad269',\n",
       "   'name': 'example 1',\n",
       "   'description': 'an example of metadata for CSV payload'}]}"
      ]
     },
     "execution_count": 7,
     "metadata": {},
     "output_type": "execute_result"
    }
   ],
   "source": [
    "q = Q('metadata')\n",
    "my_results = db.find(str(q))\n",
    "my_results"
   ]
  },
  {
   "cell_type": "markdown",
   "metadata": {},
   "source": [
    "## Retrieve"
   ]
  },
  {
   "cell_type": "code",
   "execution_count": 4,
   "metadata": {},
   "outputs": [],
   "source": [
    "id = 'test/249b3da4b04b22620bc4'"
   ]
  },
  {
   "cell_type": "code",
   "execution_count": 8,
   "metadata": {},
   "outputs": [
    {
     "data": {
      "text/plain": [
       "{'id': 'test/7d9ce113ebfe6665b2f5',\n",
       " 'name': 'Test',\n",
       " 'description': 'A test for uploading a document and payload'}"
      ]
     },
     "execution_count": 8,
     "metadata": {},
     "output_type": "execute_result"
    }
   ],
   "source": [
    "db.retrieve('test/7d9ce113ebfe6665b2f5', text=False)"
   ]
  },
  {
   "cell_type": "code",
   "execution_count": null,
   "metadata": {},
   "outputs": [],
   "source": []
  }
 ],
 "metadata": {
  "kernelspec": {
   "display_name": "Python 3",
   "language": "python",
   "name": "python3"
  },
  "language_info": {
   "codemirror_mode": {
    "name": "ipython",
    "version": 3
   },
   "file_extension": ".py",
   "mimetype": "text/x-python",
   "name": "python",
   "nbconvert_exporter": "python",
   "pygments_lexer": "ipython3",
   "version": "3.7.4"
  }
 },
 "nbformat": 4,
 "nbformat_minor": 2
}
